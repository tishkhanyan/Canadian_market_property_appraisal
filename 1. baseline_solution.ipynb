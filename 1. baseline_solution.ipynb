{
 "cells": [
  {
   "cell_type": "code",
   "execution_count": 12,
   "metadata": {},
   "outputs": [],
   "source": [
    "import pandas as pd\n",
    "from sklearn.linear_model import LinearRegression\n",
    "import numpy as np\n",
    "from sklearn.linear_model import Ridge\n",
    "from sklearn.linear_model import RidgeCV\n",
    "from sklearn.preprocessing import PolynomialFeatures\n",
    "import xgboost as xgb\n",
    "from sklearn.neighbors import KNeighborsRegressor\n",
    "from sklearn.ensemble import StackingRegressor\n",
    "from sklearn.ensemble import RandomForestRegressor\n",
    "from sklearn.feature_selection import SelectFromModel\n",
    "from sklearn.tree import DecisionTreeRegressor\n",
    "from sklearn.svm import LinearSVC"
   ]
  },
  {
   "cell_type": "code",
   "execution_count": 13,
   "metadata": {},
   "outputs": [
    {
     "data": {
      "text/html": [
       "<div>\n",
       "<style scoped>\n",
       "    .dataframe tbody tr th:only-of-type {\n",
       "        vertical-align: middle;\n",
       "    }\n",
       "\n",
       "    .dataframe tbody tr th {\n",
       "        vertical-align: top;\n",
       "    }\n",
       "\n",
       "    .dataframe thead th {\n",
       "        text-align: right;\n",
       "    }\n",
       "</style>\n",
       "<table border=\"1\" class=\"dataframe\">\n",
       "  <thead>\n",
       "    <tr style=\"text-align: right;\">\n",
       "      <th></th>\n",
       "      <th>Address</th>\n",
       "      <th>distance</th>\n",
       "      <th>acessibility</th>\n",
       "      <th>S/A</th>\n",
       "      <th>Price</th>\n",
       "      <th>Sold Date</th>\n",
       "      <th>Days On Market</th>\n",
       "      <th>Age</th>\n",
       "      <th>Area</th>\n",
       "      <th>Total Bedrooms</th>\n",
       "      <th>...</th>\n",
       "      <th>Zoning</th>\n",
       "      <th>Parking Places - Covered</th>\n",
       "      <th># Rms</th>\n",
       "      <th>No. Floor Levels</th>\n",
       "      <th>Frontage - Feet</th>\n",
       "      <th>Depth</th>\n",
       "      <th>Type</th>\n",
       "      <th>Unnamed: 30</th>\n",
       "      <th>Unnamed: 31</th>\n",
       "      <th>Public Remarks</th>\n",
       "    </tr>\n",
       "  </thead>\n",
       "  <tbody>\n",
       "    <tr>\n",
       "      <th>0</th>\n",
       "      <td>12821 114 AVENUE</td>\n",
       "      <td>0.0</td>\n",
       "      <td>0.0</td>\n",
       "      <td>F21</td>\n",
       "      <td>$610,000</td>\n",
       "      <td>9/12/20</td>\n",
       "      <td>40</td>\n",
       "      <td>999</td>\n",
       "      <td>North Surrey</td>\n",
       "      <td>3</td>\n",
       "      <td>...</td>\n",
       "      <td>RF</td>\n",
       "      <td>0.0</td>\n",
       "      <td>6</td>\n",
       "      <td>2</td>\n",
       "      <td>50</td>\n",
       "      <td>100</td>\n",
       "      <td>House/Single Family</td>\n",
       "      <td>0.0</td>\n",
       "      <td>0.0</td>\n",
       "      <td>Investor's alert. 3 bedroom tenanted home with...</td>\n",
       "    </tr>\n",
       "    <tr>\n",
       "      <th>1</th>\n",
       "      <td>12860 114A AVENUE</td>\n",
       "      <td>0.0</td>\n",
       "      <td>0.0</td>\n",
       "      <td>F21</td>\n",
       "      <td>$675,000</td>\n",
       "      <td>11/15/20</td>\n",
       "      <td>18</td>\n",
       "      <td>999</td>\n",
       "      <td>North Surrey</td>\n",
       "      <td>1</td>\n",
       "      <td>...</td>\n",
       "      <td>RS1</td>\n",
       "      <td>0.0</td>\n",
       "      <td>5</td>\n",
       "      <td>1</td>\n",
       "      <td>50</td>\n",
       "      <td>99.9</td>\n",
       "      <td>House/Single Family</td>\n",
       "      <td>0.0</td>\n",
       "      <td>0.0</td>\n",
       "      <td>WHY RENT? Apartment size, 1 bedroom, modern, e...</td>\n",
       "    </tr>\n",
       "    <tr>\n",
       "      <th>2</th>\n",
       "      <td>12646 113 AVENUE</td>\n",
       "      <td>0.0</td>\n",
       "      <td>0.0</td>\n",
       "      <td>F21</td>\n",
       "      <td>$690,000</td>\n",
       "      <td>7/3/20</td>\n",
       "      <td>14</td>\n",
       "      <td>64</td>\n",
       "      <td>North Surrey</td>\n",
       "      <td>2</td>\n",
       "      <td>...</td>\n",
       "      <td>SFR</td>\n",
       "      <td>1.0</td>\n",
       "      <td>6</td>\n",
       "      <td>1</td>\n",
       "      <td>0</td>\n",
       "      <td>0</td>\n",
       "      <td>House/Single Family</td>\n",
       "      <td>0.0</td>\n",
       "      <td>0.0</td>\n",
       "      <td>INVESTORS and FIRST TIME HOME BUYERS ALERT! 2 ...</td>\n",
       "    </tr>\n",
       "    <tr>\n",
       "      <th>3</th>\n",
       "      <td>10669 160 STREET</td>\n",
       "      <td>0.0</td>\n",
       "      <td>0.0</td>\n",
       "      <td>F23</td>\n",
       "      <td>$700,000</td>\n",
       "      <td>8/14/20</td>\n",
       "      <td>71</td>\n",
       "      <td>62</td>\n",
       "      <td>North Surrey</td>\n",
       "      <td>3</td>\n",
       "      <td>...</td>\n",
       "      <td>RA</td>\n",
       "      <td>0.0</td>\n",
       "      <td>11</td>\n",
       "      <td>2</td>\n",
       "      <td>61.22</td>\n",
       "      <td>134.81</td>\n",
       "      <td>House/Single Family</td>\n",
       "      <td>0.0</td>\n",
       "      <td>0.0</td>\n",
       "      <td>**LARGE 8255 sqft LOT****PERFECT FOR INVESTORS...</td>\n",
       "    </tr>\n",
       "    <tr>\n",
       "      <th>4</th>\n",
       "      <td>11457 125A STREET</td>\n",
       "      <td>0.0</td>\n",
       "      <td>0.0</td>\n",
       "      <td>F21</td>\n",
       "      <td>$700,000</td>\n",
       "      <td>11/4/20</td>\n",
       "      <td>28</td>\n",
       "      <td>70</td>\n",
       "      <td>North Surrey</td>\n",
       "      <td>2</td>\n",
       "      <td>...</td>\n",
       "      <td>RF</td>\n",
       "      <td>0.0</td>\n",
       "      <td>6</td>\n",
       "      <td>1</td>\n",
       "      <td>61.5</td>\n",
       "      <td>120</td>\n",
       "      <td>House/Single Family</td>\n",
       "      <td>0.0</td>\n",
       "      <td>0.0</td>\n",
       "      <td>Tastefully renovated 2 bed 1bath house with de...</td>\n",
       "    </tr>\n",
       "  </tbody>\n",
       "</table>\n",
       "<p>5 rows × 27 columns</p>\n",
       "</div>"
      ],
      "text/plain": [
       "             Address  distance  acessibility  S/A      Price Sold Date  \\\n",
       "0   12821 114 AVENUE       0.0           0.0  F21  $610,000    9/12/20   \n",
       "1  12860 114A AVENUE       0.0           0.0  F21  $675,000   11/15/20   \n",
       "2   12646 113 AVENUE       0.0           0.0  F21  $690,000     7/3/20   \n",
       "3   10669 160 STREET       0.0           0.0  F23  $700,000    8/14/20   \n",
       "4  11457 125A STREET       0.0           0.0  F21  $700,000    11/4/20   \n",
       "\n",
       "   Days On Market  Age          Area  Total Bedrooms  ...  Zoning  \\\n",
       "0              40  999  North Surrey               3  ...      RF   \n",
       "1              18  999  North Surrey               1  ...     RS1   \n",
       "2              14   64  North Surrey               2  ...     SFR   \n",
       "3              71   62  North Surrey               3  ...      RA   \n",
       "4              28   70  North Surrey               2  ...      RF   \n",
       "\n",
       "  Parking Places - Covered # Rms No. Floor Levels Frontage - Feet   Depth  \\\n",
       "0                      0.0     6                2              50     100   \n",
       "1                      0.0     5                1              50    99.9   \n",
       "2                      1.0     6                1               0       0   \n",
       "3                      0.0    11                2           61.22  134.81   \n",
       "4                      0.0     6                1            61.5     120   \n",
       "\n",
       "                  Type Unnamed: 30  Unnamed: 31  \\\n",
       "0  House/Single Family         0.0          0.0   \n",
       "1  House/Single Family         0.0          0.0   \n",
       "2  House/Single Family         0.0          0.0   \n",
       "3  House/Single Family         0.0          0.0   \n",
       "4  House/Single Family         0.0          0.0   \n",
       "\n",
       "                                      Public Remarks  \n",
       "0  Investor's alert. 3 bedroom tenanted home with...  \n",
       "1  WHY RENT? Apartment size, 1 bedroom, modern, e...  \n",
       "2  INVESTORS and FIRST TIME HOME BUYERS ALERT! 2 ...  \n",
       "3  **LARGE 8255 sqft LOT****PERFECT FOR INVESTORS...  \n",
       "4  Tastefully renovated 2 bed 1bath house with de...  \n",
       "\n",
       "[5 rows x 27 columns]"
      ]
     },
     "execution_count": 13,
     "metadata": {},
     "output_type": "execute_result"
    }
   ],
   "source": [
    "### Preprocessing\n",
    "# I'm reading the \n",
    "df1 = pd.read_csv(\"F20 P1-Table 1.csv\", na_values=['nan'])\n",
    "\n",
    "### Deleting yellow columns\n",
    "df1 = df1.drop(['Status', 'For Tax Year', 'Gross Taxes', 'Original Price', 'List Price', 'GST Incl'], axis=1)\n",
    "\n",
    "### NaN's replacing with 0's\n",
    "df1.replace('nan', np.nan, inplace=True)\n",
    "df1.fillna(0, inplace=True)\n",
    "\n",
    "df1.head()"
   ]
  },
  {
   "cell_type": "code",
   "execution_count": 14,
   "metadata": {},
   "outputs": [],
   "source": [
    "y = df1['Price']\n",
    "df1 = df1.drop(['Price', 'Unnamed: 30', 'Unnamed: 31', 'Public Remarks', 'Sold Date', 'distance', 'acessibility', 'Area'], axis=1)\n",
    "\n",
    "y = y.str.replace('$','')\n",
    "y = y.str.replace(',','')\n",
    "y = y.astype(float)"
   ]
  },
  {
   "cell_type": "code",
   "execution_count": 15,
   "metadata": {},
   "outputs": [],
   "source": [
    "X1 = pd.get_dummies(df1['Address'])\n",
    "X2 = pd.get_dummies(df1['S/A'])\n",
    "X3 = pd.get_dummies(df1['Driveway Finish'])\n",
    "X4 = pd.get_dummies(df1['Foundation'])\n",
    "X5 = pd.get_dummies(df1['Zoning'])\n",
    "X6 = pd.get_dummies(df1['Type'])\n",
    "\n",
    "X_train_1 = np.concatenate((X1, X2, X3, X4, X5, X6), axis = 1)\n",
    "\n",
    "df = df1.drop(['Address', 'S/A', 'Driveway Finish', 'Foundation', 'Zoning', 'Type', 'Depth', 'Frontage - Feet'], axis=1) # Depth and Frontage feet ???\n",
    "\n",
    "df['Lot Sz (Sq.Ft.)'] = df['Lot Sz (Sq.Ft.)'].str.replace(',','').astype(float)\n",
    "df['Floor Area -Grand Total'] = df['Floor Area -Grand Total'].str.replace(',','').astype(float)\n",
    "df['Floor Area - Unfinished'] = df['Floor Area - Unfinished'].str.replace(',','').astype(float)\n",
    "df['Floor Area Fin - Basement'] = df['Floor Area Fin - Basement'].str.replace(',','').astype(float)\n",
    "\n",
    "df\n",
    "\n",
    "poly = PolynomialFeatures(2)\n",
    "X_train_2 = poly.fit_transform(df)"
   ]
  },
  {
   "cell_type": "code",
   "execution_count": 16,
   "metadata": {},
   "outputs": [
    {
     "data": {
      "text/plain": [
       "(558, 700)"
      ]
     },
     "execution_count": 16,
     "metadata": {},
     "output_type": "execute_result"
    }
   ],
   "source": [
    "X_train = np.concatenate((X_train_1, X_train_2), axis = 1)\n",
    "\n",
    "X_train.shape"
   ]
  },
  {
   "cell_type": "code",
   "execution_count": 17,
   "metadata": {},
   "outputs": [
    {
     "name": "stderr",
     "output_type": "stream",
     "text": [
      "/Users/tigrani/opt/anaconda3/lib/python3.8/site-packages/sklearn/svm/_base.py:976: ConvergenceWarning: Liblinear failed to converge, increase the number of iterations.\n",
      "  warnings.warn(\"Liblinear failed to converge, increase \"\n"
     ]
    }
   ],
   "source": [
    "### Feature selection\n",
    "lsvc = LinearSVC(penalty=\"l1\", max_iter=5000, dual=False).fit(X_train, y)\n",
    "model = SelectFromModel(lsvc, prefit=True, threshold=1e-27, max_features=500)\n",
    "X_train = model.transform(X_train)"
   ]
  },
  {
   "cell_type": "code",
   "execution_count": 18,
   "metadata": {},
   "outputs": [],
   "source": [
    "### Model\n",
    "estimators = [\n",
    "    ('lr1', RidgeCV()),\n",
    "    ('lr2', RandomForestRegressor(n_estimators=10, random_state=42)),\n",
    "    ('lr3', xgb.XGBRegressor(n_estimators=100, learning_rate=0.1, gamma=0, subsample=0.75, colsample_bytree=1, max_depth=7)),\n",
    "    ('lr4', DecisionTreeRegressor(random_state=0))\n",
    "    ]\n",
    "xgb_r = StackingRegressor(\n",
    "    estimators=estimators,\n",
    "    final_estimator=Ridge(311)\n",
    ")"
   ]
  },
  {
   "cell_type": "code",
   "execution_count": 19,
   "metadata": {},
   "outputs": [
    {
     "name": "stdout",
     "output_type": "stream",
     "text": [
      "started fitting\n"
     ]
    },
    {
     "data": {
      "text/plain": [
       "StackingRegressor(estimators=[('lr1',\n",
       "                               RidgeCV(alphas=array([ 0.1,  1. , 10. ]))),\n",
       "                              ('lr2',\n",
       "                               RandomForestRegressor(n_estimators=10,\n",
       "                                                     random_state=42)),\n",
       "                              ('lr3',\n",
       "                               XGBRegressor(base_score=None, booster=None,\n",
       "                                            colsample_bylevel=None,\n",
       "                                            colsample_bynode=None,\n",
       "                                            colsample_bytree=1, gamma=0,\n",
       "                                            gpu_id=None, importance_type='gain',\n",
       "                                            interaction_constraints=None,\n",
       "                                            learning_rate=0.1,\n",
       "                                            max_delta_..., max_depth=7,\n",
       "                                            min_child_weight=None, missing=nan,\n",
       "                                            monotone_constraints=None,\n",
       "                                            n_estimators=100, n_jobs=None,\n",
       "                                            num_parallel_tree=None,\n",
       "                                            random_state=None, reg_alpha=None,\n",
       "                                            reg_lambda=None,\n",
       "                                            scale_pos_weight=None,\n",
       "                                            subsample=0.75, tree_method=None,\n",
       "                                            validate_parameters=None,\n",
       "                                            verbosity=None)),\n",
       "                              ('lr4', DecisionTreeRegressor(random_state=0))],\n",
       "                  final_estimator=Ridge(alpha=311))"
      ]
     },
     "execution_count": 19,
     "metadata": {},
     "output_type": "execute_result"
    }
   ],
   "source": [
    "print('started fitting')\n",
    "xgb_r.fit(X_train, y)"
   ]
  },
  {
   "cell_type": "code",
   "execution_count": 20,
   "metadata": {},
   "outputs": [
    {
     "name": "stdout",
     "output_type": "stream",
     "text": [
      "model fitted\n"
     ]
    },
    {
     "name": "stderr",
     "output_type": "stream",
     "text": [
      "/Users/tigrani/opt/anaconda3/lib/python3.8/site-packages/xgboost/data.py:112: UserWarning: Use subset (sliced data) of np.ndarray is not recommended because it will generate extra copies and increase memory consumption\n",
      "  warnings.warn(\n"
     ]
    },
    {
     "data": {
      "text/plain": [
       "52237.24340753602"
      ]
     },
     "execution_count": 20,
     "metadata": {},
     "output_type": "execute_result"
    }
   ],
   "source": [
    "print('model fitted')\n",
    "y_train_pred = xgb_r.predict(X_train)\n",
    "\n",
    "from sklearn.metrics import mean_squared_error\n",
    "np.sqrt(mean_squared_error(y, y_train_pred))"
   ]
  },
  {
   "cell_type": "code",
   "execution_count": 21,
   "metadata": {},
   "outputs": [],
   "source": [
    "y_train = np.array(y)\n",
    "y_final = np.abs((y_train_pred - y_train)/y_train_pred * 100)\n",
    "\n",
    "final_matrix = [0, 0, 0, 0]\n",
    "for i in y_final:\n",
    "    if i < 2:\n",
    "        final_matrix[0]+=1\n",
    "    elif i < 3:\n",
    "        final_matrix[1]+=1\n",
    "    elif i < 5:\n",
    "        final_matrix[2]+=1\n",
    "    else:\n",
    "        final_matrix[3]+=1\n",
    "        \n",
    "for i in range(4):\n",
    "    final_matrix[i] = final_matrix[i]/len(y_final)"
   ]
  },
  {
   "cell_type": "code",
   "execution_count": 22,
   "metadata": {},
   "outputs": [
    {
     "name": "stdout",
     "output_type": "stream",
     "text": [
      "[0.25627240143369173, 0.17921146953405018, 0.3727598566308244, 0.1917562724014337]\n"
     ]
    },
    {
     "data": {
      "text/plain": [
       "0.8082437275985663"
      ]
     },
     "execution_count": 22,
     "metadata": {},
     "output_type": "execute_result"
    }
   ],
   "source": [
    "# results for 2-nd order polynomial, 50000 iterations\n",
    "print(final_matrix)\n",
    "\n",
    "np.sum(final_matrix[:3])"
   ]
  },
  {
   "cell_type": "code",
   "execution_count": null,
   "metadata": {},
   "outputs": [],
   "source": []
  },
  {
   "cell_type": "code",
   "execution_count": null,
   "metadata": {},
   "outputs": [],
   "source": []
  },
  {
   "cell_type": "code",
   "execution_count": null,
   "metadata": {},
   "outputs": [],
   "source": []
  },
  {
   "cell_type": "code",
   "execution_count": null,
   "metadata": {},
   "outputs": [],
   "source": []
  },
  {
   "cell_type": "code",
   "execution_count": null,
   "metadata": {},
   "outputs": [],
   "source": []
  },
  {
   "cell_type": "code",
   "execution_count": null,
   "metadata": {},
   "outputs": [],
   "source": []
  },
  {
   "cell_type": "code",
   "execution_count": null,
   "metadata": {},
   "outputs": [],
   "source": []
  },
  {
   "cell_type": "code",
   "execution_count": null,
   "metadata": {},
   "outputs": [],
   "source": []
  },
  {
   "cell_type": "code",
   "execution_count": 13,
   "metadata": {},
   "outputs": [
    {
     "name": "stdout",
     "output_type": "stream",
     "text": [
      "[0.4121863799283154, 0.1935483870967742, 0.2132616487455197, 0.18100358422939067]\n"
     ]
    },
    {
     "data": {
      "text/plain": [
       "0.8189964157706093"
      ]
     },
     "execution_count": 13,
     "metadata": {},
     "output_type": "execute_result"
    }
   ],
   "source": [
    "# results for 2-nd order polynomial, 50000 iterations, 13mins\n",
    "\n",
    "print(final_matrix)\n",
    "\n",
    "np.sum(final_matrix[:3])"
   ]
  },
  {
   "cell_type": "code",
   "execution_count": 13,
   "metadata": {},
   "outputs": [
    {
     "name": "stdout",
     "output_type": "stream",
     "text": [
      "[0.023297491039426525, 0.008960573476702509, 0.021505376344086023, 0.946236559139785]\n"
     ]
    },
    {
     "data": {
      "text/plain": [
       "0.053763440860215055"
      ]
     },
     "execution_count": 13,
     "metadata": {},
     "output_type": "execute_result"
    }
   ],
   "source": [
    "# results for 2-nd order polynomial, 35000 iterations, 10mins? \n",
    "\n",
    "print(final_matrix)\n",
    "\n",
    "np.sum(final_matrix[:3])"
   ]
  },
  {
   "cell_type": "code",
   "execution_count": 14,
   "metadata": {},
   "outputs": [
    {
     "name": "stdout",
     "output_type": "stream",
     "text": [
      "[0.26344086021505375, 0.18996415770609318, 0.26344086021505375, 0.2831541218637993]\n"
     ]
    },
    {
     "data": {
      "text/plain": [
       "0.7168458781362007"
      ]
     },
     "execution_count": 14,
     "metadata": {},
     "output_type": "execute_result"
    }
   ],
   "source": [
    "# results for 2-nd order polynomial, 20000 iterations, 6mins\n",
    "\n",
    "print(final_matrix)\n",
    "\n",
    "np.sum(final_matrix[:3])"
   ]
  },
  {
   "cell_type": "code",
   "execution_count": 21,
   "metadata": {},
   "outputs": [
    {
     "name": "stdout",
     "output_type": "stream",
     "text": [
      "[0.023297491039426525, 0.008960573476702509, 0.021505376344086023, 0.946236559139785]\n"
     ]
    },
    {
     "data": {
      "text/plain": [
       "0.053763440860215055"
      ]
     },
     "execution_count": 21,
     "metadata": {},
     "output_type": "execute_result"
    }
   ],
   "source": [
    "# results for 2-nd order polynomial, 1000 iterations, 20sec\n",
    "\n",
    "print(final_matrix)\n",
    "\n",
    "np.sum(final_matrix[:3])"
   ]
  },
  {
   "cell_type": "code",
   "execution_count": null,
   "metadata": {},
   "outputs": [],
   "source": []
  }
 ],
 "metadata": {
  "kernelspec": {
   "display_name": "Python 3",
   "language": "python",
   "name": "python3"
  },
  "language_info": {
   "codemirror_mode": {
    "name": "ipython",
    "version": 3
   },
   "file_extension": ".py",
   "mimetype": "text/x-python",
   "name": "python",
   "nbconvert_exporter": "python",
   "pygments_lexer": "ipython3",
   "version": "3.8.5"
  }
 },
 "nbformat": 4,
 "nbformat_minor": 4
}
