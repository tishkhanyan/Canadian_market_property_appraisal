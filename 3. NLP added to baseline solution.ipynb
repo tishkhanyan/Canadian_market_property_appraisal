{
 "cells": [
  {
   "cell_type": "markdown",
   "metadata": {},
   "source": [
    "# Property appraisal ML project.\n",
    "## Phase 2: adding NLP analysis"
   ]
  },
  {
   "cell_type": "code",
   "execution_count": 1,
   "metadata": {},
   "outputs": [],
   "source": [
    "import numpy as np\n",
    "import pandas as pd\n",
    "import seaborn as sb\n",
    "import matplotlib.pyplot as plt\n",
    "\n",
    "from sklearn.linear_model import LinearRegression\n",
    "from sklearn.preprocessing import PolynomialFeatures\n",
    "from sklearn.ensemble import RandomForestRegressor\n",
    "\n",
    "from sklearn.metrics import mean_squared_error"
   ]
  },
  {
   "cell_type": "code",
   "execution_count": 2,
   "metadata": {},
   "outputs": [
    {
     "name": "stdout",
     "output_type": "stream",
     "text": [
      "Our dataset has 558 data lines and 27 features:\n",
      "\n",
      "\n",
      "['Address', 'distance', 'acessibility', 'S/A', 'Price', 'Sold Date', 'Days On Market', 'Age', 'Area', 'Total Bedrooms', 'Total Baths', 'Lot Sz (Sq.Ft.)', 'Floor Area -Grand Total', 'Driveway Finish', 'Floor Area - Unfinished', 'Foundation', 'Floor Area Fin - Basement', 'Zoning', 'Parking Places - Covered', '# Rms', 'No. Floor Levels', 'Frontage - Feet', 'Depth', 'Type', 'Unnamed: 30', 'Unnamed: 31', 'Public Remarks']\n"
     ]
    }
   ],
   "source": [
    "# just reading the first sheet\n",
    "df1 = pd.read_csv(\"0. F20 P1-Table 1.csv\", na_values=['nan'])\n",
    "\n",
    "# deleting yellow columns\n",
    "df1.drop(['Status', 'For Tax Year', 'Gross Taxes', 'Original Price', 'List Price', 'GST Incl'], axis = 1, inplace = True)\n",
    "\n",
    "# size of our dataset\n",
    "print('Our dataset has', len(df1), 'data lines and', len(df1.columns.tolist()), 'features:')\n",
    "print('\\n')\n",
    "print(df1.columns.tolist())"
   ]
  },
  {
   "cell_type": "code",
   "execution_count": 3,
   "metadata": {},
   "outputs": [
    {
     "name": "stdout",
     "output_type": "stream",
     "text": [
      "Dropping the feature: distance\n",
      "Dropping the feature: acessibility\n",
      "Dropping the feature: Unnamed: 30\n",
      "Dropping the feature: Unnamed: 31\n",
      "\n",
      "\n",
      "Features left:\n",
      "['Address', 'S/A', 'Price', 'Days On Market', 'Age', 'Area', 'Total Bedrooms', 'Total Baths', 'Lot Sz (Sq.Ft.)', 'Floor Area -Grand Total', 'Driveway Finish', 'Floor Area - Unfinished', 'Foundation', 'Floor Area Fin - Basement', 'Zoning', 'Parking Places - Covered', '# Rms', 'No. Floor Levels', 'Frontage - Feet', 'Depth', 'Type', 'Public Remarks']\n",
      "\n",
      "\n",
      "Now we have 22 features and their types:\n"
     ]
    },
    {
     "data": {
      "text/html": [
       "<div>\n",
       "<style scoped>\n",
       "    .dataframe tbody tr th:only-of-type {\n",
       "        vertical-align: middle;\n",
       "    }\n",
       "\n",
       "    .dataframe tbody tr th {\n",
       "        vertical-align: top;\n",
       "    }\n",
       "\n",
       "    .dataframe thead th {\n",
       "        text-align: right;\n",
       "    }\n",
       "</style>\n",
       "<table border=\"1\" class=\"dataframe\">\n",
       "  <thead>\n",
       "    <tr style=\"text-align: right;\">\n",
       "      <th></th>\n",
       "      <th>DataTypes</th>\n",
       "    </tr>\n",
       "  </thead>\n",
       "  <tbody>\n",
       "    <tr>\n",
       "      <th>Address</th>\n",
       "      <td>object</td>\n",
       "    </tr>\n",
       "    <tr>\n",
       "      <th>S/A</th>\n",
       "      <td>object</td>\n",
       "    </tr>\n",
       "    <tr>\n",
       "      <th>Price</th>\n",
       "      <td>object</td>\n",
       "    </tr>\n",
       "    <tr>\n",
       "      <th>Days On Market</th>\n",
       "      <td>int64</td>\n",
       "    </tr>\n",
       "    <tr>\n",
       "      <th>Age</th>\n",
       "      <td>int64</td>\n",
       "    </tr>\n",
       "    <tr>\n",
       "      <th>Area</th>\n",
       "      <td>object</td>\n",
       "    </tr>\n",
       "    <tr>\n",
       "      <th>Total Bedrooms</th>\n",
       "      <td>int64</td>\n",
       "    </tr>\n",
       "    <tr>\n",
       "      <th>Total Baths</th>\n",
       "      <td>int64</td>\n",
       "    </tr>\n",
       "    <tr>\n",
       "      <th>Lot Sz (Sq.Ft.)</th>\n",
       "      <td>object</td>\n",
       "    </tr>\n",
       "    <tr>\n",
       "      <th>Floor Area -Grand Total</th>\n",
       "      <td>object</td>\n",
       "    </tr>\n",
       "    <tr>\n",
       "      <th>Driveway Finish</th>\n",
       "      <td>object</td>\n",
       "    </tr>\n",
       "    <tr>\n",
       "      <th>Floor Area - Unfinished</th>\n",
       "      <td>object</td>\n",
       "    </tr>\n",
       "    <tr>\n",
       "      <th>Foundation</th>\n",
       "      <td>object</td>\n",
       "    </tr>\n",
       "    <tr>\n",
       "      <th>Floor Area Fin - Basement</th>\n",
       "      <td>object</td>\n",
       "    </tr>\n",
       "    <tr>\n",
       "      <th>Zoning</th>\n",
       "      <td>object</td>\n",
       "    </tr>\n",
       "    <tr>\n",
       "      <th>Parking Places - Covered</th>\n",
       "      <td>float64</td>\n",
       "    </tr>\n",
       "    <tr>\n",
       "      <th># Rms</th>\n",
       "      <td>int64</td>\n",
       "    </tr>\n",
       "    <tr>\n",
       "      <th>No. Floor Levels</th>\n",
       "      <td>int64</td>\n",
       "    </tr>\n",
       "    <tr>\n",
       "      <th>Frontage - Feet</th>\n",
       "      <td>object</td>\n",
       "    </tr>\n",
       "    <tr>\n",
       "      <th>Depth</th>\n",
       "      <td>object</td>\n",
       "    </tr>\n",
       "    <tr>\n",
       "      <th>Type</th>\n",
       "      <td>object</td>\n",
       "    </tr>\n",
       "    <tr>\n",
       "      <th>Public Remarks</th>\n",
       "      <td>object</td>\n",
       "    </tr>\n",
       "  </tbody>\n",
       "</table>\n",
       "</div>"
      ],
      "text/plain": [
       "                          DataTypes\n",
       "Address                      object\n",
       "S/A                          object\n",
       "Price                        object\n",
       "Days On Market                int64\n",
       "Age                           int64\n",
       "Area                         object\n",
       "Total Bedrooms                int64\n",
       "Total Baths                   int64\n",
       "Lot Sz (Sq.Ft.)              object\n",
       "Floor Area -Grand Total      object\n",
       "Driveway Finish              object\n",
       "Floor Area - Unfinished      object\n",
       "Foundation                   object\n",
       "Floor Area Fin - Basement    object\n",
       "Zoning                       object\n",
       "Parking Places - Covered    float64\n",
       "# Rms                         int64\n",
       "No. Floor Levels              int64\n",
       "Frontage - Feet              object\n",
       "Depth                        object\n",
       "Type                         object\n",
       "Public Remarks               object"
      ]
     },
     "execution_count": 3,
     "metadata": {},
     "output_type": "execute_result"
    }
   ],
   "source": [
    "# dropping the columns with more than 90% NAs\n",
    "moreThan = []\n",
    "\n",
    "for feature in df1:\n",
    "    if df1[feature].isna().sum() / df1.shape[0] > 0.9:\n",
    "        moreThan.append(feature)\n",
    "        print(\"Dropping the feature:\", feature)\n",
    "df1.drop(moreThan, axis = 1, inplace = True)\n",
    "\n",
    "print('\\n')\n",
    "\n",
    "# dropping the columns that are not insightful: Days On Market, Public Remarks\n",
    "# df1.drop(['Sold Date', 'Public Remarks'], axis=1, inplace = True)\n",
    "df1.drop(['Sold Date'], axis=1, inplace = True)\n",
    "\n",
    "columns_names = df1.columns.tolist()\n",
    "\n",
    "print(\"Features left:\")\n",
    "print(columns_names)\n",
    "print('\\n')\n",
    "print(\"Now we have\", len(columns_names), \"features and their types:\")\n",
    "\n",
    "# types of our columns\n",
    "pd.DataFrame(df1.dtypes, columns=['DataTypes'])"
   ]
  },
  {
   "cell_type": "code",
   "execution_count": 4,
   "metadata": {},
   "outputs": [],
   "source": [
    "# the data is not cleaned!!! so we have to do something with that. \n",
    "# some features like Depth contain expressions like \"99X44X32\"\n",
    "\n",
    "# a bit of cleanup\n",
    "\n",
    "# in Address we need to take only the name of avenue \n",
    "df1['Address'] = df1['Address'].str.split(\" \", 1).str[-1] \n",
    "\n",
    "# S/A nothing to do\n",
    "\n",
    "# Price: remove $ and ,\n",
    "df1['Price'] = df1['Price'].str.replace('$','')\n",
    "df1['Price'] = df1['Price'].str.replace(',','')\n",
    "df1['Price'] = df1['Price'].astype(float)\n",
    "y = df1['Price']\n",
    "# df1 = df1.drop(['Price'], axis=1)\n",
    "\n",
    "# Days On Market nothing to do\n",
    "\n",
    "# Age: delete outliers\n",
    "df1['Age'][df1['Age'] > 100] == 0 ### or -1\n",
    "\n",
    "# Area, Total Bedrooms, Total Baths: nothing to do\n",
    "\n",
    "# Lot Sz (Sq.Ft.): remove , and .00\n",
    "df1['Lot Sz (Sq.Ft.)'] = df1['Lot Sz (Sq.Ft.)'].str.replace(',', '')\n",
    "df1['Lot Sz (Sq.Ft.)'] = df1['Lot Sz (Sq.Ft.)'].str.replace('.00', '')\n",
    "df1['Lot Sz (Sq.Ft.)'] = df1['Lot Sz (Sq.Ft.)'].astype(float)\n",
    "\n",
    "# Floor Area -Grand Total: remove ,\n",
    "df1['Floor Area -Grand Total'] = df1['Floor Area -Grand Total'].str.replace(',', '')\n",
    "df1['Floor Area -Grand Total'] = df1['Floor Area -Grand Total'].astype(float)\n",
    "\n",
    "# Driveway Finish: replace nan's with Unknowns\n",
    "df1['Driveway Finish'] = df1['Floor Area -Grand Total'].fillna('Unknown')\n",
    "\n",
    "# Floor Area -Grand Total: remove ,\n",
    "df1['Floor Area - Unfinished'] = df1['Floor Area - Unfinished'].str.replace(',', '')\n",
    "df1['Floor Area - Unfinished'] = df1['Floor Area - Unfinished'].astype(float)\n",
    "\n",
    "# Foundation: nothing to do\n",
    "\n",
    "# Floor Area Fin - Basement: remove ,\n",
    "df1['Floor Area Fin - Basement'] = df1['Floor Area Fin - Basement'].str.replace(',', '')\n",
    "df1['Floor Area Fin - Basement'] = df1['Floor Area Fin - Basement'].astype(float)\n",
    "\n",
    "# Zoning: maybe take a loot on intersection of two columns?!\n",
    "df1['Zoning'] = df1['Zoning'].str.replace('1ACRER', 'RA')\n",
    "df1['Zoning'] = df1['Zoning'].str.replace('1 AR', 'RA')\n",
    "df1['Zoning'] = df1['Zoning'].str.replace('A1', 'A-1')\n",
    "df1['Zoning'] = df1['Zoning'].str.replace('A2', 'A-2')\n",
    "df1['Zoning'] = df1['Zoning'].str.replace('RF13', 'RF-13')\n",
    "df1['Zoning'] = df1['Zoning'].str.replace('RHG', 'RH-G')\n",
    "df1['Zoning'] = df1['Zoning'].str.replace('RS-1', 'RS1')\n",
    "df1['Zoning'] = df1['Zoning'].str.replace('SING/F', 'SING')\n",
    "\n",
    "# Parking Places - Covered: change nan's with 0 or -1\n",
    "df1['Parking Places - Covered'] = df1['Parking Places - Covered'].fillna(0) ### or -1\n",
    "\n",
    "# # Rms, No. Floor Levels: nothing to do\n",
    "\n",
    "# Frontage - Feet: remove , and change nan with 0 oe -1\n",
    "df1['Frontage - Feet'] = df1['Frontage - Feet'].str.replace(',', '')\n",
    "df1['Frontage - Feet'] = df1['Frontage - Feet'].astype(float)\n",
    "df1['Frontage - Feet'] = df1['Frontage - Feet'].fillna(0) ### or -1\n",
    "\n",
    "# Depth: to work out!!!! now dropping\n",
    "df1 = df1.drop(['Depth'], axis=1)\n",
    "\n",
    "# Type: nothing to do \n",
    "\n",
    "# ooobj = df1['Depth']\n",
    "# Counter(ooobj).keys()"
   ]
  },
  {
   "cell_type": "code",
   "execution_count": null,
   "metadata": {},
   "outputs": [],
   "source": []
  },
  {
   "cell_type": "code",
   "execution_count": 5,
   "metadata": {},
   "outputs": [],
   "source": [
    "# Below I do NLP processing on \"Public Remarks\" column using two techincs: \n",
    "# 1. Making a bag of words\n",
    "# 2. using FastText wiki embeddings"
   ]
  },
  {
   "cell_type": "code",
   "execution_count": 6,
   "metadata": {},
   "outputs": [
    {
     "name": "stdout",
     "output_type": "stream",
     "text": [
      "Our Public Remarks column has 755 different words.\n",
      "\n",
      "\n",
      "Here is an example how the above NLP works. We take this line:\n",
      "Investor's alert. 3 bedroom tenanted home with lots of potential for holding and rebuilding. This home sits on 2 lots with a bright south facing front yard. Each lot is 2500 sqft and adds up to a total of 5000 sqft. The back yard is fenced and quiet. Perfect for holding and building 1 or 2 homes later. Enquire at the City about your building options. Location is very convenient: close to School, community centre and Scott Road skytrain station. Short drive to get to Patullo bridge and King George highway and South Perimeter road. Quiet home at the end of a no-thru road. Home is tenanted, please drive by first before scheduling a showing.\n",
      "\n",
      "And transfer it to matrix of numbers: [[  0   0  32 105 658 345 739 415 473 530 283 344  69   0   0 345 605 480\n",
      "   27 415 739  46 124 618 257 294   0   0 414 372   0 626  69   0 694 674\n",
      "   46 680 473   0   0   0  88 747 372 267  69   0   0 283 344  69 130  20\n",
      "  488  27 346   0   0  81 662   0   0 752 130   0   0 372 708   0 160 674\n",
      "    0 165 154  69   0   0 612   0   0 213 674   0 674   0 122  69   0   0\n",
      "  341  69   0   0   0   0 345  81 662 228 473  46   0   0   0 372   0 522\n",
      "  213 137 275 109   0  46   0]]\n",
      "\n",
      "\n",
      "The overall shape of the NLPed matrix, i.e. we transfered one column of Public Remarks to a matrix of shape:\n"
     ]
    },
    {
     "data": {
      "text/plain": [
       "(558, 183)"
      ]
     },
     "execution_count": 6,
     "metadata": {},
     "output_type": "execute_result"
    }
   ],
   "source": [
    "# filling missing elements\n",
    "nlp_column = df1[\"Public Remarks\"].fillna('NaN')\n",
    "\n",
    "# making standard tokenization process\n",
    "import nltk\n",
    "tokenizer = nltk.tokenize.WordPunctTokenizer()\n",
    "preprocess = lambda text: ' '.join(tokenizer.tokenize(text.lower()))\n",
    "\n",
    "nlp_column_punc_tokenized = [ preprocess(string) for string in nlp_column ]\n",
    "\n",
    "from nltk.tokenize import word_tokenize\n",
    "# nltk.download('punkt')\n",
    "\n",
    "nlp_tokenized = ([word_tokenize(i) for i in nlp_column_punc_tokenized])\n",
    "\n",
    "#then a bit of cleanup of tokenized elements\n",
    "import itertools\n",
    "from collections import Counter\n",
    "\n",
    "tokenized_words_flatt = list(itertools.chain(*nlp_tokenized))\n",
    "token_counts = Counter(tokenized_words_flatt)\n",
    "\n",
    "# deleting words that occur less than 10 times\n",
    "min_count = 10\n",
    "\n",
    "from itertools import dropwhile\n",
    "for key, count in dropwhile(lambda key_count: key_count[1] >= min_count, token_counts.most_common()):\n",
    "    del token_counts[key]\n",
    "    \n",
    "tokens = token_counts.keys()\n",
    "\n",
    "# add a special tokens for unknown and empty words\n",
    "UNK, PAD = \"UNK\", \"PAD\"\n",
    "tokens = [UNK, PAD] + sorted(tokens)\n",
    "print(\"Our Public Remarks column has\", len(tokens), \"different words.\")\n",
    "\n",
    "assert type(tokens) == list\n",
    "assert UNK in tokens\n",
    "\n",
    "# making a dictionary of words and their numbers\n",
    "token_to_id = dict(zip(tokens, range(len(tokens))))\n",
    "\n",
    "UNK_IX, PAD_IX = map(token_to_id.get, [UNK, PAD])\n",
    "\n",
    "# this function in fact transfers line of text into a matrix of numbers \n",
    "def as_matrix(sequences, max_len=None):\n",
    "    \"\"\" Convert a list of tokens into a matrix with padding \"\"\"\n",
    "    if isinstance(sequences[0], str):\n",
    "        sequences = list(map(str.split, sequences))\n",
    "        \n",
    "    max_len = min(max(map(len, sequences)), max_len or float('inf'))\n",
    "    \n",
    "    matrix = np.full((len(sequences), max_len), np.int32(PAD_IX))\n",
    "    for i,seq in enumerate(sequences):\n",
    "        row_ix = [token_to_id.get(word, UNK_IX) for word in seq[:max_len]]\n",
    "        matrix[i, :len(row_ix)] = row_ix\n",
    "    \n",
    "    return matrix\n",
    "\n",
    "print(\"\\n\")\n",
    "print(\"Here is an example how the above NLP works. We take this line:\")\n",
    "print('\\n'.join(nlp_column[::100000].values), end='\\n\\n')\n",
    "print(\"And transfer it to matrix of numbers:\", as_matrix(nlp_column[::100000]))\n",
    "\n",
    "\n",
    "# finally, I do this \n",
    "X_nlp = as_matrix(nlp_tokenized, max_len=1000)\n",
    "\n",
    "print(\"\\n\")\n",
    "print(\"The overall shape of the NLPed matrix, i.e. we transfered one column of Public Remarks to a matrix of shape:\")\n",
    "np.shape(X_nlp)"
   ]
  },
  {
   "cell_type": "markdown",
   "metadata": {},
   "source": []
  },
  {
   "cell_type": "code",
   "execution_count": 7,
   "metadata": {},
   "outputs": [
    {
     "data": {
      "text/plain": [
       "(558, 556)"
      ]
     },
     "execution_count": 7,
     "metadata": {},
     "output_type": "execute_result"
    }
   ],
   "source": [
    "### then we get back to the original baseline solution\n",
    "# one-hot-encoding categorical features\n",
    "X1 = pd.get_dummies(df1[['Address', 'S/A', 'Area', 'Foundation', 'Zoning', 'Type']])\n",
    "\n",
    "# preprocessing the price feature\n",
    "y = df1['Price']\n",
    "\n",
    "# making polynomial transformation of numerical features\n",
    "X2 = df1.drop(['Address', 'S/A', 'Area', 'Foundation', 'Zoning', 'Type', 'Price', 'Public Remarks'], axis = 1)\n",
    "X2.fillna(0) ### or -1\n",
    "\n",
    "poly = PolynomialFeatures(2)\n",
    "X2_2 = poly.fit_transform(X2)\n",
    "\n",
    "X2_3 = pd.DataFrame(X2_2, columns = poly.get_feature_names(X2.columns))\n",
    "X2_3 = X2_3.drop(['1'], axis = 1)\n",
    "\n",
    "X_nlp_df = pd.DataFrame(X_nlp)\n",
    "\n",
    "# generating a big preprocessed dataset\n",
    "X = pd.concat([X1, X2_3, X_nlp_df], axis = 1)\n",
    "\n",
    "# rescaling it\n",
    "from sklearn.preprocessing import MinMaxScaler, StandardScaler\n",
    "# norm = MinMaxScaler().fit(X)\n",
    "norm = StandardScaler().fit(X)\n",
    "X = pd.DataFrame(columns = X.columns, data = norm.transform(X))\n",
    "\n",
    "# finally, we have 556 features (the case from baseline solution file has 373 features)\n",
    "X.shape"
   ]
  },
  {
   "cell_type": "code",
   "execution_count": 8,
   "metadata": {},
   "outputs": [
    {
     "name": "stdout",
     "output_type": "stream",
     "text": [
      "RMSE for linear regression: 26572.373568694333\n",
      "RMSE for random forest regression: 68397.07523001879\n",
      "\n",
      "\n",
      "weighted model: 0.8 * linear regressor + 0.19999999999999996 random forest regressor\n",
      "RMSE for weighted regressor: 27389.49835234957\n",
      "\n",
      "\n",
      "plotting scatter plots between predicted and actual prices to see if out model is good:\n"
     ]
    },
    {
     "data": {
      "text/plain": [
       "<matplotlib.collections.PathCollection at 0x7facdd924ee0>"
      ]
     },
     "execution_count": 8,
     "metadata": {},
     "output_type": "execute_result"
    },
    {
     "data": {
      "image/png": "[encoded data removed]",
      "text/plain": [
       "<Figure size 432x288 with 1 Axes>"
      ]
     },
     "metadata": {
      "needs_background": "light"
     },
     "output_type": "display_data"
    }
   ],
   "source": [
    "# let's make the same simple regressions on this\n",
    "\n",
    "# calculate the logarithm of price\n",
    "Y = np.log1p(y)\n",
    "\n",
    "\n",
    "# LinearRegression model\n",
    "lr = LinearRegression()\n",
    "model_lr = lr.fit(X, Y)\n",
    "\n",
    "predictions_lr = model_lr.predict(X)\n",
    "print(\"RMSE for linear regression:\", np.sqrt(mean_squared_error(y, np.expm1(predictions_lr))))\n",
    "\n",
    "# RandomForest\n",
    "rf = RandomForestRegressor(n_estimators=100)\n",
    "model_rf = rf.fit(X, Y)\n",
    "\n",
    "predictions_rf = model_rf.predict(X)\n",
    "print(\"RMSE for random forest regression:\", np.sqrt(mean_squared_error(y, np.expm1(predictions_rf))))\n",
    "\n",
    "\n",
    "# let's take some weighted sum of these two regressions' predictions\n",
    "weight_coeff = 0.8\n",
    "predictions = (weight_coeff * predictions_lr + (1 - weight_coeff) * predictions_rf)\n",
    "print('\\n')\n",
    "print(\"weighted model:\", weight_coeff, \"* linear regressor +\", 1 - weight_coeff, \"random forest regressor\" )\n",
    "print(\"RMSE for weighted regressor:\", np.sqrt(mean_squared_error(y, np.expm1(predictions))))\n",
    "\n",
    "# scatter plots\n",
    "print('\\n')\n",
    "print(\"plotting scatter plots between predicted and actual prices to see if out model is good:\")\n",
    "plt.scatter(y, np.expm1(predictions_lr))\n",
    "plt.scatter(y, np.expm1(predictions_rf))"
   ]
  },
  {
   "cell_type": "code",
   "execution_count": 9,
   "metadata": {},
   "outputs": [
    {
     "name": "stdout",
     "output_type": "stream",
     "text": [
      "% of predictions accuracy: [<2%, 2 - 3%, 3 - 5%, 5 - 10%, >10%]\n",
      "[70.3, 15.1, 10.9, 3.6, 0.2]\n",
      "\n",
      "\n",
      "% of predictions, <=2% accuracy: 70.3\n",
      "% of predictions, <=3% accuracy: 85.39999999999999\n",
      "% of predictions, <=5% accuracy: 96.3\n",
      "% of predictions, 5-10% accuracy: 3.6\n",
      "% of predictions,  >10% accuracy: 0.2\n"
     ]
    }
   ],
   "source": [
    "# finally, let's check what we have\n",
    "y_final = np.abs(np.expm1(predictions) - y)/(np.expm1(predictions)) * 100\n",
    "\n",
    "final_matrix = [0, 0, 0, 0, 0]\n",
    "for i in y_final:\n",
    "    if i <= 2:\n",
    "        final_matrix[0]+=1\n",
    "    elif i <= 3:\n",
    "        final_matrix[1]+=1\n",
    "    elif i <= 5:\n",
    "        final_matrix[2]+=1\n",
    "    elif i <= 10:\n",
    "        final_matrix[3]+=1\n",
    "    else:\n",
    "        final_matrix[4]+=1\n",
    "        \n",
    "for i in range(5):\n",
    "    final_matrix[i] = np.round(final_matrix[i]/len(y_final) * 100, 1)\n",
    "    \n",
    "print(\"% of predictions accuracy: [<2%, 2 - 3%, 3 - 5%, 5 - 10%, >10%]\")\n",
    "print(final_matrix)\n",
    "print('\\n')\n",
    "print(\"% of predictions, <=2% accuracy:\", np.sum(final_matrix[:1]))\n",
    "print(\"% of predictions, <=3% accuracy:\", np.sum(final_matrix[:2]))\n",
    "print(\"% of predictions, <=5% accuracy:\", np.sum(final_matrix[:3]))\n",
    "print(\"% of predictions, 5-10% accuracy:\", np.sum(final_matrix[3]))\n",
    "print(\"% of predictions,  >10% accuracy:\", np.sum(final_matrix[4]))"
   ]
  },
  {
   "cell_type": "code",
   "execution_count": 29,
   "metadata": {},
   "outputs": [
    {
     "name": "stdout",
     "output_type": "stream",
     "text": [
      "% of predictions accuracy: [<2%, 2 - 3%, 3 - 5%, 5 - 10%, >10%]\n",
      "[51.4, 15.4, 17.6, 12.9, 2.7]\n",
      "\n",
      "\n",
      "% of predictions, <=2% accuracy: 51.4\n",
      "% of predictions, <=3% accuracy: 66.8\n",
      "% of predictions, <=5% accuracy: 84.4\n",
      "% of predictions, 5-10% accuracy: 12.9\n",
      "% of predictions,  >10% accuracy: 2.7\n"
     ]
    }
   ],
   "source": [
    "# recalling the output for baseline solution:"
   ]
  },
  {
   "cell_type": "code",
   "execution_count": null,
   "metadata": {},
   "outputs": [],
   "source": []
  },
  {
   "cell_type": "markdown",
   "metadata": {},
   "source": [
    "==============\n",
    "\n"
   ]
  },
  {
   "cell_type": "code",
   "execution_count": 10,
   "metadata": {},
   "outputs": [
    {
     "name": "stderr",
     "output_type": "stream",
     "text": [
      "/Users/tigrani/opt/anaconda3/lib/python3.8/site-packages/gensim/similarities/__init__.py:15: UserWarning: The gensim.similarities.levenshtein submodule is disabled, because the optional Levenshtein package <https://pypi.org/project/python-Levenshtein/> is unavailable. Install Levenhstein (e.g. `pip install python-Levenshtein`) to suppress this warning.\n",
      "  warnings.warn(msg)\n"
     ]
    },
    {
     "name": "stdout",
     "output_type": "stream",
     "text": [
      "FASTTEXT is loaded.\n"
     ]
    }
   ],
   "source": [
    "# now I do a better NLP using gensim fasttext embeddings for sentences.\n",
    "# An advantage is this will give also the context of the words + will work better for unseen words\n",
    "\n",
    "import gensim.downloader \n",
    "embeddings = gensim.downloader.load(\"fasttext-wiki-news-subwords-300\")\n",
    "print(\"FASTTEXT is loaded.\")"
   ]
  },
  {
   "cell_type": "code",
   "execution_count": 12,
   "metadata": {},
   "outputs": [
    {
     "name": "stdout",
     "output_type": "stream",
     "text": [
      "Public Remarcks culomn is transformed to a matrix of form =  (558, 300)\n"
     ]
    }
   ],
   "source": [
    "# using the same NOT PROCESSED Public Remarks \n",
    "# nlp_column\n",
    "\n",
    "import nltk\n",
    "tokenizer = nltk.tokenize.WordPunctTokenizer()\n",
    "preprocess = lambda text: ' '.join(tokenizer.tokenize(text.lower()))\n",
    "\n",
    "nlp_column_punc_tokenized = [ preprocess(string) for string in nlp_column ]\n",
    "\n",
    "from nltk.tokenize import word_tokenize\n",
    "\n",
    "# here is my function that generates the word embeddings\n",
    "def vectorize_sum(comment):\n",
    "    embedding_dim = embeddings.vectors.shape[1]\n",
    "    features = np.zeros([embedding_dim], dtype='float32')\n",
    "    \n",
    "    tokenized_comment = word_tokenize(comment)\n",
    "    \n",
    "    for word in tokenized_comment:\n",
    "        if word in (embeddings.key_to_index):\n",
    "            features += embeddings.get_vector(word)\n",
    "        else: ## this is for the cases like '``'\n",
    "            pass\n",
    "    \n",
    "    return features\n",
    "\n",
    "X_fasttext_nlp = np.stack([vectorize_sum(text) for text in nlp_column_punc_tokenized])\n",
    "\n",
    "print(\"Public Remarcks culomn is transformed to a matrix of form = \", np.shape(X_fasttext_nlp))"
   ]
  },
  {
   "cell_type": "code",
   "execution_count": 16,
   "metadata": {},
   "outputs": [
    {
     "data": {
      "text/plain": [
       "(558, 673)"
      ]
     },
     "execution_count": 16,
     "metadata": {},
     "output_type": "execute_result"
    }
   ],
   "source": [
    "# adding this to the dataset\n",
    "X_fasttext_df = pd.DataFrame(X_fasttext_nlp)\n",
    "X = pd.concat([X1, X2_3, X_fasttext_df], axis = 1)\n",
    "\n",
    "# rescaling it\n",
    "from sklearn.preprocessing import MinMaxScaler, StandardScaler\n",
    "# norm = MinMaxScaler().fit(X)\n",
    "norm = StandardScaler().fit(X)\n",
    "X = pd.DataFrame(columns = X.columns, data = norm.transform(X))\n",
    "\n",
    "# finally, we have 673 features (the case from baseline solution file has 373 features)\n",
    "X.shape"
   ]
  },
  {
   "cell_type": "code",
   "execution_count": 17,
   "metadata": {},
   "outputs": [
    {
     "name": "stdout",
     "output_type": "stream",
     "text": [
      "RMSE for linear regression: 2.0891571911920454e-08\n",
      "RMSE for random forest regression: 72846.25160312455\n",
      "\n",
      "\n",
      "weighted model: 0.8 * linear regressor + 0.19999999999999996 random forest regressor\n",
      "RMSE for weighted regressor: 15697.800724189454\n",
      "\n",
      "\n",
      "plotting scatter plots between predicted and actual prices to see if out model is good:\n"
     ]
    },
    {
     "data": {
      "text/plain": [
       "<matplotlib.collections.PathCollection at 0x7facc51bde50>"
      ]
     },
     "execution_count": 17,
     "metadata": {},
     "output_type": "execute_result"
    },
    {
     "data": {
      "image/png": "[encoded data removed]",
      "text/plain": [
       "<Figure size 432x288 with 1 Axes>"
      ]
     },
     "metadata": {
      "needs_background": "light"
     },
     "output_type": "display_data"
    }
   ],
   "source": [
    "# let's make the same simple regressions on this\n",
    "\n",
    "# calculate the logarithm of price\n",
    "Y = np.log1p(y)\n",
    "\n",
    "\n",
    "# LinearRegression model\n",
    "lr = LinearRegression()\n",
    "model_lr = lr.fit(X, Y)\n",
    "\n",
    "predictions_lr = model_lr.predict(X)\n",
    "print(\"RMSE for linear regression:\", np.sqrt(mean_squared_error(y, np.expm1(predictions_lr))))\n",
    "\n",
    "# RandomForest\n",
    "rf = RandomForestRegressor(n_estimators=100)\n",
    "model_rf = rf.fit(X, Y)\n",
    "\n",
    "predictions_rf = model_rf.predict(X)\n",
    "print(\"RMSE for random forest regression:\", np.sqrt(mean_squared_error(y, np.expm1(predictions_rf))))\n",
    "\n",
    "\n",
    "# let's take some weighted sum of these two regressions' predictions\n",
    "weight_coeff = 0.8\n",
    "predictions = (weight_coeff * predictions_lr + (1 - weight_coeff) * predictions_rf)\n",
    "print('\\n')\n",
    "print(\"weighted model:\", weight_coeff, \"* linear regressor +\", 1 - weight_coeff, \"random forest regressor\" )\n",
    "print(\"RMSE for weighted regressor:\", np.sqrt(mean_squared_error(y, np.expm1(predictions))))\n",
    "\n",
    "# scatter plots\n",
    "print('\\n')\n",
    "print(\"plotting scatter plots between predicted and actual prices to see if out model is good:\")\n",
    "plt.scatter(y, np.expm1(predictions_lr))\n",
    "plt.scatter(y, np.expm1(predictions_rf))"
   ]
  },
  {
   "cell_type": "code",
   "execution_count": 18,
   "metadata": {},
   "outputs": [
    {
     "name": "stdout",
     "output_type": "stream",
     "text": [
      "% of predictions accuracy: [<2%, 2 - 3%, 3 - 5%, 5 - 10%, >10%]\n",
      "[95.3, 2.5, 2.0, 0.2, 0.0]\n",
      "\n",
      "\n",
      "% of predictions, <=2% accuracy: 95.3\n",
      "% of predictions, <=3% accuracy: 97.8\n",
      "% of predictions, <=5% accuracy: 99.8\n",
      "% of predictions, 5-10% accuracy: 0.2\n",
      "% of predictions,  >10% accuracy: 0.0\n"
     ]
    }
   ],
   "source": [
    "# finally, let's check what we have\n",
    "y_final = np.abs(np.expm1(predictions) - y)/(np.expm1(predictions)) * 100\n",
    "\n",
    "final_matrix = [0, 0, 0, 0, 0]\n",
    "for i in y_final:\n",
    "    if i <= 2:\n",
    "        final_matrix[0]+=1\n",
    "    elif i <= 3:\n",
    "        final_matrix[1]+=1\n",
    "    elif i <= 5:\n",
    "        final_matrix[2]+=1\n",
    "    elif i <= 10:\n",
    "        final_matrix[3]+=1\n",
    "    else:\n",
    "        final_matrix[4]+=1\n",
    "        \n",
    "for i in range(5):\n",
    "    final_matrix[i] = np.round(final_matrix[i]/len(y_final) * 100, 1)\n",
    "    \n",
    "print(\"% of predictions accuracy: [<2%, 2 - 3%, 3 - 5%, 5 - 10%, >10%]\")\n",
    "print(final_matrix)\n",
    "print('\\n')\n",
    "print(\"% of predictions, <=2% accuracy:\", np.sum(final_matrix[:1]))\n",
    "print(\"% of predictions, <=3% accuracy:\", np.sum(final_matrix[:2]))\n",
    "print(\"% of predictions, <=5% accuracy:\", np.sum(final_matrix[:3]))\n",
    "print(\"% of predictions, 5-10% accuracy:\", np.sum(final_matrix[3]))\n",
    "print(\"% of predictions,  >10% accuracy:\", np.sum(final_matrix[4]))"
   ]
  },
  {
   "cell_type": "code",
   "execution_count": null,
   "metadata": {},
   "outputs": [],
   "source": []
  },
  {
   "cell_type": "code",
   "execution_count": null,
   "metadata": {},
   "outputs": [],
   "source": []
  },
  {
   "cell_type": "code",
   "execution_count": null,
   "metadata": {},
   "outputs": [],
   "source": [
    "# Insights from this step: now we have at least two NLP subalgorithms that are generating additional information.\n",
    "# In fact the numbers above are showing almost nothing as the dataset initially is small and feeding it (having say 556 datapoints with 673 features)\n",
    "# to any ML model will immidiately bring to overfitting. \n",
    "\n",
    "# However, these NLP technics will be used for the next step that is the similarity ranking algorithm: here I'll use my already developed one for similarity,\n",
    "# add the NLP part and strenghten the algorithm with comments from John."
   ]
  }
 ],
 "metadata": {
  "kernelspec": {
   "display_name": "Python 3",
   "language": "python",
   "name": "python3"
  },
  "language_info": {
   "codemirror_mode": {
    "name": "ipython",
    "version": 3
   },
   "file_extension": ".py",
   "mimetype": "text/x-python",
   "name": "python",
   "nbconvert_exporter": "python",
   "pygments_lexer": "ipython3",
   "version": "3.8.5"
  }
 },
 "nbformat": 4,
 "nbformat_minor": 4
}
